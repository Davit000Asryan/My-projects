{
  "nbformat": 4,
  "nbformat_minor": 0,
  "metadata": {
    "colab": {
      "provenance": [],
      "gpuType": "T4",
      "authorship_tag": "ABX9TyO6oYHrlKF7yQX3iWaGCskq",
      "include_colab_link": true
    },
    "kernelspec": {
      "name": "python3",
      "display_name": "Python 3"
    },
    "language_info": {
      "name": "python"
    },
    "accelerator": "GPU"
  },
  "cells": [
    {
      "cell_type": "markdown",
      "metadata": {
        "id": "view-in-github",
        "colab_type": "text"
      },
      "source": [
        "<a href=\"https://colab.research.google.com/github/Davit000Asryan/My-projects/blob/main/MNIST_digit_recognition.ipynb\" target=\"_parent\"><img src=\"https://colab.research.google.com/assets/colab-badge.svg\" alt=\"Open In Colab\"/></a>"
      ]
    },
    {
      "cell_type": "code",
      "execution_count": 2,
      "metadata": {
        "id": "Tx4mVHBG_GDZ"
      },
      "outputs": [],
      "source": [
        "import torch\n",
        "import torchvision\n",
        "import torch.nn as nn\n",
        "import torch.nn.functional as F\n",
        "import torch.optim as optim\n",
        "import numpy as np\n",
        "import pandas as pd\n",
        "import matplotlib.pyplot as plt\n",
        "%matplotlib inline\n",
        "import torchvision.transforms as transforms\n"
      ]
    },
    {
      "cell_type": "code",
      "source": [
        "# checking if a GPU is available and setting the device accordingly\n",
        "device = torch.device(\"cuda\" if torch.cuda.is_available() else \"cpu\")"
      ],
      "metadata": {
        "id": "brcSzA96P36Z"
      },
      "execution_count": 3,
      "outputs": []
    },
    {
      "cell_type": "code",
      "source": [
        "# making a preprocessor pipeline for the data\n",
        "\n",
        "preprocessor = transforms.Compose([\n",
        "    transforms.ToTensor(),\n",
        "    transforms.Normalize(mean=0.1307, std=0.3081)\n",
        "])\n",
        "\n",
        "\n",
        "# download the data\n",
        "\n",
        "train_data = torchvision.datasets.MNIST(\n",
        "    root = 'data',\n",
        "    train = True,\n",
        "    download = True,\n",
        "    transform = preprocessor\n",
        ")\n",
        "test_data = torchvision.datasets.MNIST(\n",
        "    root = 'data',\n",
        "    train = False,\n",
        "    download = True,\n",
        "    transform = preprocessor\n",
        ")\n"
      ],
      "metadata": {
        "id": "6_fjhzih_HIh",
        "colab": {
          "base_uri": "https://localhost:8080/"
        },
        "outputId": "73492435-d993-4aa6-f874-d64340efed9d"
      },
      "execution_count": 4,
      "outputs": [
        {
          "output_type": "stream",
          "name": "stdout",
          "text": [
            "Downloading http://yann.lecun.com/exdb/mnist/train-images-idx3-ubyte.gz\n",
            "Failed to download (trying next):\n",
            "HTTP Error 403: Forbidden\n",
            "\n",
            "Downloading https://ossci-datasets.s3.amazonaws.com/mnist/train-images-idx3-ubyte.gz\n",
            "Downloading https://ossci-datasets.s3.amazonaws.com/mnist/train-images-idx3-ubyte.gz to data/MNIST/raw/train-images-idx3-ubyte.gz\n"
          ]
        },
        {
          "output_type": "stream",
          "name": "stderr",
          "text": [
            "100%|██████████| 9.91M/9.91M [00:00<00:00, 16.2MB/s]\n"
          ]
        },
        {
          "output_type": "stream",
          "name": "stdout",
          "text": [
            "Extracting data/MNIST/raw/train-images-idx3-ubyte.gz to data/MNIST/raw\n",
            "\n",
            "Downloading http://yann.lecun.com/exdb/mnist/train-labels-idx1-ubyte.gz\n",
            "Failed to download (trying next):\n",
            "HTTP Error 403: Forbidden\n",
            "\n",
            "Downloading https://ossci-datasets.s3.amazonaws.com/mnist/train-labels-idx1-ubyte.gz\n",
            "Downloading https://ossci-datasets.s3.amazonaws.com/mnist/train-labels-idx1-ubyte.gz to data/MNIST/raw/train-labels-idx1-ubyte.gz\n"
          ]
        },
        {
          "output_type": "stream",
          "name": "stderr",
          "text": [
            "100%|██████████| 28.9k/28.9k [00:00<00:00, 433kB/s]\n"
          ]
        },
        {
          "output_type": "stream",
          "name": "stdout",
          "text": [
            "Extracting data/MNIST/raw/train-labels-idx1-ubyte.gz to data/MNIST/raw\n",
            "\n",
            "Downloading http://yann.lecun.com/exdb/mnist/t10k-images-idx3-ubyte.gz\n",
            "Failed to download (trying next):\n",
            "HTTP Error 403: Forbidden\n",
            "\n",
            "Downloading https://ossci-datasets.s3.amazonaws.com/mnist/t10k-images-idx3-ubyte.gz\n",
            "Downloading https://ossci-datasets.s3.amazonaws.com/mnist/t10k-images-idx3-ubyte.gz to data/MNIST/raw/t10k-images-idx3-ubyte.gz\n"
          ]
        },
        {
          "output_type": "stream",
          "name": "stderr",
          "text": [
            "100%|██████████| 1.65M/1.65M [00:00<00:00, 4.05MB/s]\n"
          ]
        },
        {
          "output_type": "stream",
          "name": "stdout",
          "text": [
            "Extracting data/MNIST/raw/t10k-images-idx3-ubyte.gz to data/MNIST/raw\n",
            "\n",
            "Downloading http://yann.lecun.com/exdb/mnist/t10k-labels-idx1-ubyte.gz\n",
            "Failed to download (trying next):\n",
            "HTTP Error 403: Forbidden\n",
            "\n",
            "Downloading https://ossci-datasets.s3.amazonaws.com/mnist/t10k-labels-idx1-ubyte.gz\n",
            "Downloading https://ossci-datasets.s3.amazonaws.com/mnist/t10k-labels-idx1-ubyte.gz to data/MNIST/raw/t10k-labels-idx1-ubyte.gz\n"
          ]
        },
        {
          "output_type": "stream",
          "name": "stderr",
          "text": [
            "100%|██████████| 4.54k/4.54k [00:00<00:00, 4.33MB/s]"
          ]
        },
        {
          "output_type": "stream",
          "name": "stdout",
          "text": [
            "Extracting data/MNIST/raw/t10k-labels-idx1-ubyte.gz to data/MNIST/raw\n",
            "\n"
          ]
        },
        {
          "output_type": "stream",
          "name": "stderr",
          "text": [
            "\n"
          ]
        }
      ]
    },
    {
      "cell_type": "code",
      "source": [
        "train_data.data.shape"
      ],
      "metadata": {
        "colab": {
          "base_uri": "https://localhost:8080/"
        },
        "id": "pdNTIDdhV3EO",
        "outputId": "81bd6955-bf0b-4f30-e432-6e60bdae3f06"
      },
      "execution_count": 5,
      "outputs": [
        {
          "output_type": "execute_result",
          "data": {
            "text/plain": [
              "torch.Size([60000, 28, 28])"
            ]
          },
          "metadata": {},
          "execution_count": 5
        }
      ]
    },
    {
      "cell_type": "code",
      "source": [
        "test_data.data.shape"
      ],
      "metadata": {
        "colab": {
          "base_uri": "https://localhost:8080/"
        },
        "id": "OR3xptv4_HLd",
        "outputId": "1daa4fe8-0f15-4656-c109-63d7ef56e3e6"
      },
      "execution_count": 6,
      "outputs": [
        {
          "output_type": "execute_result",
          "data": {
            "text/plain": [
              "torch.Size([10000, 28, 28])"
            ]
          },
          "metadata": {},
          "execution_count": 6
        }
      ]
    },
    {
      "cell_type": "code",
      "source": [
        "train_data.targets.shape"
      ],
      "metadata": {
        "id": "EX1efRHs_HSA",
        "colab": {
          "base_uri": "https://localhost:8080/"
        },
        "outputId": "0a5b8505-d314-4452-f204-d59ea02ebd60"
      },
      "execution_count": 7,
      "outputs": [
        {
          "output_type": "execute_result",
          "data": {
            "text/plain": [
              "torch.Size([60000])"
            ]
          },
          "metadata": {},
          "execution_count": 7
        }
      ]
    },
    {
      "cell_type": "code",
      "source": [
        "# defining a dictionary  with data loaders\n",
        "from torch.utils.data import DataLoader\n",
        "loaders = {\n",
        "    'train' : DataLoader(train_data,\n",
        "                         batch_size = 100,\n",
        "                         shuffle = True),\n",
        "\n",
        "    'test' : DataLoader(test_data,\n",
        "                        batch_size = 100,\n",
        "                        shuffle = True)\n",
        "}"
      ],
      "metadata": {
        "id": "-YJIFHvOipsT"
      },
      "execution_count": 8,
      "outputs": []
    },
    {
      "cell_type": "code",
      "source": [
        "# neural network architecture\n",
        "\n",
        "class Model(nn.Module):\n",
        "    def __init__(self):\n",
        "\n",
        "        super().__init__()\n",
        "\n",
        "        self.conv1 = nn.Conv2d(in_channels=1, out_channels=32, kernel_size=3, padding=1)\n",
        "        self.conv2 = nn.Conv2d(in_channels=32, out_channels=64, kernel_size=3, padding=1)\n",
        "        self.pool1 = nn.MaxPool2d(kernel_size=2, stride=2)\n",
        "        self.conv3= nn.Conv2d(in_channels=64, out_channels=128, kernel_size=3, padding=1)\n",
        "        self.pool2 = nn.MaxPool2d(kernel_size=2, stride=2)\n",
        "        self.fcl1 = nn.Linear(in_features=128*7*7, out_features=64)\n",
        "        self.out_layer = nn.Linear(in_features=64, out_features=10)\n",
        "        self.p=0.01\n",
        "\n",
        "\n",
        "    # forward method with ReLu activation functions\n",
        "    def forward(self, x):\n",
        "        x = F.dropout(F.relu(self.conv1(x)),p=self.p)\n",
        "        x = F.dropout(F.relu(self.conv2(x)),p=self.p)\n",
        "        x = self.pool1(x)\n",
        "        x = F.dropout(F.relu(self.conv3(x)),p=self.p)\n",
        "        x = self.pool2(x)\n",
        "        x = x.view(x.size(0), -1)\n",
        "        x = F.dropout(F.relu(self.fcl1(x)), p=self.p)\n",
        "        x = self.out_layer(x)\n",
        "\n",
        "        return x\n",
        "\n"
      ],
      "metadata": {
        "id": "NXOHFrifjYaD"
      },
      "execution_count": 9,
      "outputs": []
    },
    {
      "cell_type": "code",
      "source": [
        "# instantiating the model, optimizer and loss\n",
        "model = Model().to(device)\n",
        "optimizer = optim.Adam(model.parameters(), lr=0.001, weight_decay=0.01)\n",
        "loss_f = nn.CrossEntropyLoss()\n",
        "\n",
        "# creating caches for losses\n",
        "train_losses = []\n",
        "test_losses = []\n"
      ],
      "metadata": {
        "id": "XN-ZRv7ro8BB"
      },
      "execution_count": 10,
      "outputs": []
    },
    {
      "cell_type": "code",
      "source": [
        "# training\n",
        "epochs = 3\n",
        "\n",
        "# making a counters for calculating accuracy\n",
        "train_total_correct = 0\n",
        "train_total = 0\n",
        "\n",
        "\n",
        "# putting the model into training mode\n",
        "model.train()\n",
        "\n",
        "for epoch in range(epochs):\n",
        "  for batch_idx, (train_inputs, train_labels) in enumerate(loaders['train']):\n",
        "\n",
        "    # moving the data to the GPU\n",
        "    train_inputs, train_labels = train_inputs.to(device), train_labels.to(device)\n",
        "\n",
        "    # making the gradients zero\n",
        "    optimizer.zero_grad()\n",
        "\n",
        "    # predicting the outputs\n",
        "    train_preds = model(train_inputs)\n",
        "\n",
        "    #count and cache the loss\n",
        "    train_loss = loss_f(train_preds, train_labels)\n",
        "\n",
        "    # using .item() to store only numeric values\n",
        "    train_losses.append(train_loss.item())\n",
        "\n",
        "    # backprop\n",
        "    train_loss.backward()\n",
        "\n",
        "    # ubdate the parameters\n",
        "    optimizer.step()\n",
        "\n",
        "    # tracking the training losses\n",
        "    if ((epoch*600)+batch_idx) % 200 == 0:\n",
        "      print(f'For training batch index: {(epoch*600)+batch_idx} the loss is: {train_loss.item()}')\n",
        "\n",
        "\n",
        "    # get the predicted classes\n",
        "    train_pred_classes = train_preds.argmax(dim=1)\n",
        "\n",
        "    # compare predictions with true labels\n",
        "    train_correct_predictions = (train_pred_classes == train_labels)\n",
        "\n",
        "    # calculate the total number of correct predictions and convert to a python number\n",
        "    train_total_correct += train_correct_predictions.sum().item()\n",
        "    train_total += train_labels.size(0)\n",
        "\n",
        "# calculate the mean train loss over all batches\n",
        "mean_train_loss = sum(train_losses) / len(train_losses)\n",
        "\n",
        "print(f'The mean train loss: {mean_train_loss}')\n",
        "\n",
        "\n",
        "# calculate the accuracy\n",
        "train_accuracy = (train_total_correct / train_total)*100\n",
        "\n",
        "print(f'Training accuracy: {train_accuracy} %')\n"
      ],
      "metadata": {
        "id": "C1KJqKfosEOS",
        "colab": {
          "base_uri": "https://localhost:8080/"
        },
        "outputId": "05ca7287-c17a-4185-d3a6-d178180896f2"
      },
      "execution_count": 11,
      "outputs": [
        {
          "output_type": "stream",
          "name": "stdout",
          "text": [
            "For training batch index: 0 the loss is: 2.318530797958374\n",
            "For training batch index: 200 the loss is: 0.13459035754203796\n",
            "For training batch index: 400 the loss is: 0.09928734600543976\n",
            "For training batch index: 600 the loss is: 0.07073287665843964\n",
            "For training batch index: 800 the loss is: 0.06972763687372208\n",
            "For training batch index: 1000 the loss is: 0.11155539751052856\n",
            "For training batch index: 1200 the loss is: 0.08464322984218597\n",
            "For training batch index: 1400 the loss is: 0.07950770854949951\n",
            "For training batch index: 1600 the loss is: 0.12566985189914703\n",
            "The mean train loss: 0.11861117595599757\n",
            "Training accuracy: 96.34722222222221 %\n"
          ]
        }
      ]
    },
    {
      "cell_type": "code",
      "source": [
        "# testing\n",
        "\n",
        "# puting the model into evaluation mode\n",
        "model.eval()\n",
        "\n",
        "test_losses = []\n",
        "\n",
        "# making a counter for calculating the accuracy\n",
        "test_total_correct = 0\n",
        "test_total = 0\n",
        "\n",
        "with torch.no_grad():\n",
        "  for batch_idx, (test_inputs, test_labels) in enumerate(loaders['test']):\n",
        "\n",
        "    # moving the data to the GPU\n",
        "    test_inputs, test_labels = test_inputs.to(device), test_labels.to(device)\n",
        "\n",
        "    # predict the valuesv\n",
        "    test_preds = model(test_inputs)\n",
        "\n",
        "    # calculate the loss for each batch and store it\n",
        "    test_loss = loss_f(test_preds, test_labels)\n",
        "    test_losses.append(test_loss.item())\n",
        "\n",
        "    # get the predicted classes\n",
        "    test_pred_classes = test_preds.argmax(dim=1)\n",
        "\n",
        "    # compare predictions with true labels\n",
        "    test_correct_predictions = (test_pred_classes == test_labels)\n",
        "\n",
        "    # calculate the total number of correct predictions and convert to a python number\n",
        "    test_total_correct += test_correct_predictions.sum().item()\n",
        "    test_total += test_labels.size(0)\n",
        "\n",
        "\n",
        "# calculate the mean test loss over all batches\n",
        "mean_test_loss = sum(test_losses) / len(test_losses)\n",
        "\n",
        "print(f'The mean test loss: {mean_test_loss}')\n",
        "\n",
        "# calculate the accuracy\n",
        "test_accuracy = (test_total_correct / test_total)*100\n",
        "\n",
        "print(f'Testing accuracy: {test_accuracy} %')\n",
        "\n"
      ],
      "metadata": {
        "id": "ippaboptk82x",
        "colab": {
          "base_uri": "https://localhost:8080/"
        },
        "outputId": "e325ce81-9610-42f8-90db-aff964545fef"
      },
      "execution_count": 12,
      "outputs": [
        {
          "output_type": "stream",
          "name": "stdout",
          "text": [
            "The mean test loss: 0.07349802846089006\n",
            "Testing accuracy: 97.63 %\n"
          ]
        }
      ]
    },
    {
      "cell_type": "code",
      "source": [
        "plt.plot(train_losses, label='Training loss')\n",
        "\n",
        "#create X axis for testing losses\n",
        "X_axis_test = [i*1 for i in range(len(test_losses))]\n",
        "\n",
        "plt.plot(X_axis_test, test_losses, label='Test Loss')\n",
        "\n",
        "plt.legend()\n",
        "plt.title('Training and Test Losses')\n",
        "plt.xlabel('Batches')\n",
        "plt.ylabel('Loss')\n",
        "plt.show()"
      ],
      "metadata": {
        "id": "nkznBXcUkjB3",
        "colab": {
          "base_uri": "https://localhost:8080/",
          "height": 472
        },
        "outputId": "81bb115e-d633-4771-c17d-6537d92216bb"
      },
      "execution_count": 14,
      "outputs": [
        {
          "output_type": "display_data",
          "data": {
            "text/plain": [
              "<Figure size 640x480 with 1 Axes>"
            ],
            "image/png": "[encoded data removed]"
          },
          "metadata": {}
        }
      ]
    }
  ]
}